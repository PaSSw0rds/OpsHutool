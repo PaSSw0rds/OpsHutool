{
 "cells": [
  {
   "metadata": {
    "ExecuteTime": {
     "end_time": "2024-07-19T05:46:33.202786Z",
     "start_time": "2024-07-19T05:46:33.033988Z"
    }
   },
   "cell_type": "code",
   "source": [
    "import re\n",
    "import os\n",
    "import logging\n",
    "from rich import print\n",
    "from rich.logging import RichHandler\n",
    "from rich.console import Console\n",
    "from rich.prompt import Prompt\n",
    "from rich.prompt import Confirm\n",
    "from utils.utils import insert_before_line as before, insert_after_line as after, replace_line as replace, \\\n",
    "    delete_line as delete"
   ],
   "id": "af436d554159d400",
   "outputs": [],
   "execution_count": 1
  },
  {
   "metadata": {
    "ExecuteTime": {
     "end_time": "2024-07-19T05:46:33.229164Z",
     "start_time": "2024-07-19T05:46:33.209095Z"
    }
   },
   "cell_type": "code",
   "source": [
    "os.system(\"clear\")\n",
    "console = Console(record=True)\n",
    "FORMAT = \"%(message)s\"\n",
    "logging.basicConfig(\n",
    "    level=\"NOTSET\",\n",
    "    format=FORMAT,\n",
    "    datefmt=\"[%X]\",\n",
    "    handlers=[\n",
    "        RichHandler(console=console)],\n",
    ")\n",
    "\n",
    "log = logging.getLogger(\"rich\")"
   ],
   "id": "d629c813c59b8539",
   "outputs": [
    {
     "name": "stdout",
     "output_type": "stream",
     "text": [
      "\u001B[H\u001B[2J"
     ]
    }
   ],
   "execution_count": 2
  },
  {
   "metadata": {
    "ExecuteTime": {
     "end_time": "2024-07-19T06:13:25.343679Z",
     "start_time": "2024-07-19T05:57:48.640849Z"
    }
   },
   "cell_type": "code",
   "source": [
    "with open('file.txt', 'r') as passwordauth:\n",
    "    lines = passwordauth.readlines()\n",
    "    cursor = 0\n",
    "    times = [i for i, item in enumerate(lines) if re.search(\"^[\\s]*auth\\s+.+pam_unix\\.so\", item)]\n",
    "    if times.__len__() <= 0:\n",
    "        log.warning(\"[-] 在password-auth找不到pam_unix.so\")\n",
    "        cursor = [i for i, item in enumerate(lines) if re.search(\"^[\\s]*auth\\s+.+pam_env\\.so\", item)]\n",
    "        after('file.txt',cursor,'auth\\tsufficient\\tpam_unix.so\\ttry_first_pass nullok')\n",
    "        pass\n",
    "    elif times.__len__() > 1:\n",
    "        log.warning(\"[-] 在password-auth>auth 中发现两次pam_unix.so\")\n",
    "        delete('/etc/pam.d/system-auth', times[int(Prompt.ask(\"删除第几个？（从1开始计数）\"))])"
   ],
   "id": "initial_id",
   "outputs": [
    {
     "data": {
      "text/plain": [
       "\u001B[2;36m[13:57:48]\u001B[0m\u001B[2;36m \u001B[0m\u001B[31mWARNING \u001B[0m \u001B[1m[\u001B[0m-\u001B[1m]\u001B[0m 在password-auth找不到pam_unix.so                                            \u001B]8;id=359773;file:///tmp/ipykernel_350856/3885783991.py\u001B\\\u001B[2m3885783991.py\u001B[0m\u001B]8;;\u001B\\\u001B[2m:\u001B[0m\u001B]8;id=286309;file:///tmp/ipykernel_350856/3885783991.py#6\u001B\\\u001B[2m6\u001B[0m\u001B]8;;\u001B\\\n"
      ],
      "text/html": [
       "<pre style=\"white-space:pre;overflow-x:auto;line-height:normal;font-family:Menlo,'DejaVu Sans Mono',consolas,'Courier New',monospace\"><span style=\"color: #7fbfbf; text-decoration-color: #7fbfbf\">[13:57:48] </span><span style=\"color: #800000; text-decoration-color: #800000\">WARNING </span> <span style=\"font-weight: bold\">[</span>-<span style=\"font-weight: bold\">]</span> 在password-auth找不到pam_unix.so                                            <a href=\"file:///tmp/ipykernel_350856/3885783991.py\" target=\"_blank\"><span style=\"color: #7f7f7f; text-decoration-color: #7f7f7f\">3885783991.py</span></a><span style=\"color: #7f7f7f; text-decoration-color: #7f7f7f\">:</span><a href=\"file:///tmp/ipykernel_350856/3885783991.py#6\" target=\"_blank\"><span style=\"color: #7f7f7f; text-decoration-color: #7f7f7f\">6</span></a>\n",
       "</pre>\n"
      ]
     },
     "metadata": {},
     "output_type": "display_data"
    }
   ],
   "execution_count": 8
  }
 ],
 "metadata": {
  "kernelspec": {
   "display_name": "Python 3",
   "language": "python",
   "name": "python3"
  },
  "language_info": {
   "codemirror_mode": {
    "name": "ipython",
    "version": 2
   },
   "file_extension": ".py",
   "mimetype": "text/x-python",
   "name": "python",
   "nbconvert_exporter": "python",
   "pygments_lexer": "ipython2",
   "version": "2.7.6"
  }
 },
 "nbformat": 4,
 "nbformat_minor": 5
}
